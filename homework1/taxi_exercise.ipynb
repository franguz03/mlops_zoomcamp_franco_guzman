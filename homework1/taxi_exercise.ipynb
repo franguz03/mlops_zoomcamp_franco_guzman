{
 "cells": [
  {
   "cell_type": "code",
   "execution_count": 2,
   "id": "0dcca80a",
   "metadata": {},
   "outputs": [],
   "source": [
    "import pandas as pd"
   ]
  },
  {
   "cell_type": "code",
   "execution_count": 4,
   "id": "a67ec319",
   "metadata": {},
   "outputs": [],
   "source": [
    "january_trips=pd.read_parquet('data/yellow_tripdata_2023-01.parquet')"
   ]
  },
  {
   "cell_type": "code",
   "execution_count": 5,
   "id": "d3d36a1b",
   "metadata": {},
   "outputs": [
    {
     "data": {
      "text/plain": [
       "(3066766, 19)"
      ]
     },
     "execution_count": 5,
     "metadata": {},
     "output_type": "execute_result"
    }
   ],
   "source": [
    "january_trips.shape"
   ]
  },
  {
   "cell_type": "code",
   "execution_count": 6,
   "id": "aa4480e5",
   "metadata": {},
   "outputs": [
    {
     "data": {
      "text/plain": [
       "Index(['VendorID', 'tpep_pickup_datetime', 'tpep_dropoff_datetime',\n",
       "       'passenger_count', 'trip_distance', 'RatecodeID', 'store_and_fwd_flag',\n",
       "       'PULocationID', 'DOLocationID', 'payment_type', 'fare_amount', 'extra',\n",
       "       'mta_tax', 'tip_amount', 'tolls_amount', 'improvement_surcharge',\n",
       "       'total_amount', 'congestion_surcharge', 'airport_fee'],\n",
       "      dtype='object')"
      ]
     },
     "execution_count": 6,
     "metadata": {},
     "output_type": "execute_result"
    }
   ],
   "source": [
    "january_trips.columns"
   ]
  },
  {
   "cell_type": "code",
   "execution_count": null,
   "id": "7acabab5",
   "metadata": {},
   "outputs": [
    {
     "data": {
      "text/plain": [
       "np.float64(42.59435124195458)"
      ]
     },
     "execution_count": 7,
     "metadata": {},
     "output_type": "execute_result"
    }
   ],
   "source": [
    "import pandas as pd\n",
    "\n",
    "january_trips['tpep_pickup_datetime'] = pd.to_datetime(january_trips['tpep_pickup_datetime'])\n",
    "january_trips['tpep_dropoff_datetime'] = pd.to_datetime(january_trips['tpep_dropoff_datetime'])\n",
    "\n",
    "january_trips['duration'] = (january_trips['tpep_dropoff_datetime'] - january_trips['tpep_pickup_datetime']).dt.total_seconds() / 60\n",
    "\n",
    "std_duration = january_trips['duration'].std()\n",
    "\n",
    "std_duration\n"
   ]
  },
  {
   "cell_type": "code",
   "execution_count": 17,
   "id": "5dfd399a",
   "metadata": {},
   "outputs": [
    {
     "data": {
      "text/plain": [
       "98.1220282212598"
      ]
     },
     "execution_count": 17,
     "metadata": {},
     "output_type": "execute_result"
    }
   ],
   "source": [
    "filter_data=january_trips[(january_trips['duration'] <=60) & (january_trips['duration'] >=1)]\n",
    "\n",
    "proportion_outliers=filter_data.shape[0]/len(january_trips)*100\n",
    "proportion_outliers\n"
   ]
  },
  {
   "cell_type": "code",
   "execution_count": 18,
   "id": "7c91ea95",
   "metadata": {},
   "outputs": [
    {
     "name": "stderr",
     "output_type": "stream",
     "text": [
      "C:\\Users\\57300\\AppData\\Local\\Temp\\ipykernel_5676\\1716243837.py:4: SettingWithCopyWarning: \n",
      "A value is trying to be set on a copy of a slice from a DataFrame.\n",
      "Try using .loc[row_indexer,col_indexer] = value instead\n",
      "\n",
      "See the caveats in the documentation: https://pandas.pydata.org/pandas-docs/stable/user_guide/indexing.html#returning-a-view-versus-a-copy\n",
      "  filter_data[categorical] = filter_data[categorical].astype(str)\n"
     ]
    },
    {
     "name": "stdout",
     "output_type": "stream",
     "text": [
      "Shape of the Feature Matrix: (3009173, 515)\n"
     ]
    }
   ],
   "source": [
    "from sklearn.feature_extraction import DictVectorizer\n",
    "\n",
    "categorical = ['PULocationID', 'DOLocationID']\n",
    "filter_data[categorical] = filter_data[categorical].astype(str)\n",
    "data_dicts = filter_data[categorical].to_dict(orient='records')\n",
    "vectorizer = DictVectorizer()\n",
    "feature_matrix = vectorizer.fit_transform(data_dicts)\n",
    "print(\"Shape of the Feature Matrix:\", feature_matrix.shape)\n"
   ]
  },
  {
   "cell_type": "code",
   "execution_count": 21,
   "id": "c3e12ddb",
   "metadata": {},
   "outputs": [
    {
     "name": "stdout",
     "output_type": "stream",
     "text": [
      "RMSE: 7.6492619533128225\n"
     ]
    }
   ],
   "source": [
    "from sklearn.linear_model import LinearRegression\n",
    "from sklearn.metrics import mean_squared_error\n",
    "import numpy as np\n",
    "\n",
    "\n",
    "y = filter_data['duration']\n",
    "\n",
    "model = LinearRegression()\n",
    "model.fit(feature_matrix, y)\n",
    "predictions = model.predict(feature_matrix)\n",
    "rmse = np.sqrt(mean_squared_error(y, predictions))\n",
    "print(f\"RMSE: {rmse}\")\n"
   ]
  },
  {
   "cell_type": "code",
   "execution_count": 22,
   "id": "9d67ca3a",
   "metadata": {},
   "outputs": [],
   "source": [
    "february_trips=pd.read_parquet('data/yellow_tripdata_2023-02.parquet')\n"
   ]
  },
  {
   "cell_type": "code",
   "execution_count": 23,
   "id": "916329de",
   "metadata": {},
   "outputs": [],
   "source": [
    "february_trips['duration'] = (february_trips['tpep_dropoff_datetime'] - february_trips['tpep_pickup_datetime']).dt.total_seconds() / 60\n",
    "february_trips = february_trips[(february_trips['duration'] <= 60) & (february_trips['duration'] >= 1)]\n",
    "\n"
   ]
  },
  {
   "cell_type": "code",
   "execution_count": 24,
   "id": "8a790503",
   "metadata": {},
   "outputs": [],
   "source": [
    "february_trips[categorical] = february_trips[categorical].astype(str)\n",
    "data_dicts_feb = february_trips[categorical].to_dict(orient='records')\n",
    "feature_matrix_feb = vectorizer.transform(data_dicts_feb)"
   ]
  },
  {
   "cell_type": "code",
   "execution_count": 25,
   "id": "241eab06",
   "metadata": {},
   "outputs": [],
   "source": [
    "february_predictions = model.predict(feature_matrix_feb)\n",
    "rmse_feb = np.sqrt(mean_squared_error(february_trips['duration'], february_predictions))"
   ]
  },
  {
   "cell_type": "code",
   "execution_count": 26,
   "id": "36d6697b",
   "metadata": {},
   "outputs": [
    {
     "data": {
      "text/plain": [
       "np.float64(7.811816520976144)"
      ]
     },
     "execution_count": 26,
     "metadata": {},
     "output_type": "execute_result"
    }
   ],
   "source": [
    "rmse_feb"
   ]
  }
 ],
 "metadata": {
  "kernelspec": {
   "display_name": "mlops_course",
   "language": "python",
   "name": "mlops_course"
  },
  "language_info": {
   "codemirror_mode": {
    "name": "ipython",
    "version": 3
   },
   "file_extension": ".py",
   "mimetype": "text/x-python",
   "name": "python",
   "nbconvert_exporter": "python",
   "pygments_lexer": "ipython3",
   "version": "3.13.3"
  }
 },
 "nbformat": 4,
 "nbformat_minor": 5
}
